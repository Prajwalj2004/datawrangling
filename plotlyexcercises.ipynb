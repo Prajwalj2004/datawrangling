{
 "cells": [
  {
   "cell_type": "code",
   "execution_count": null,
   "id": "124b38e6",
   "metadata": {},
   "outputs": [],
   "source": [
    "import plotly.express as px"
   ]
  },
  {
   "cell_type": "code",
   "execution_count": null,
   "id": "7c7a9d8c",
   "metadata": {},
   "outputs": [],
   "source": [
    "df =px.data.iris()\n",
    "fig=px.line(df,x='species',y='petal_width')\n",
    "fig.show()"
   ]
  },
  {
   "cell_type": "code",
   "execution_count": null,
   "id": "201a0090",
   "metadata": {},
   "outputs": [],
   "source": [
    "fig=px.bar(df,x='sepal_width',y='sepal_length')\n",
    "fig.show()"
   ]
  },
  {
   "cell_type": "code",
   "execution_count": null,
   "id": "5bd2f01a",
   "metadata": {},
   "outputs": [],
   "source": [
    "df1=px.data.tips()\n",
    "fig=px.box(df1,x='day',y='total_bill')\n",
    "fig.show()"
   ]
  },
  {
   "cell_type": "code",
   "execution_count": null,
   "id": "39c59a78",
   "metadata": {},
   "outputs": [],
   "source": [
    "fig=px.violin(df1,x='day',y='total_bill')\n",
    "fig.show()"
   ]
  },
  {
   "cell_type": "code",
   "execution_count": null,
   "id": "0a4d07c4",
   "metadata": {},
   "outputs": [],
   "source": [
    "fig=px.line_3d(df1,x='sex',y='day',z='time',color='sex')\n",
    "plot_bgcolor='white'\n",
    "fig.show()"
   ]
  },
  {
   "cell_type": "code",
   "execution_count": null,
   "id": "78566a46",
   "metadata": {},
   "outputs": [],
   "source": [
    "fig=px.scatter_3d(df,x='sepal_width',y='sepal_length',z='petal_width',color='species')\n",
    "fig.show()"
   ]
  },
  {
   "cell_type": "code",
   "execution_count": null,
   "id": "791860ff",
   "metadata": {},
   "outputs": [],
   "source": [
    "import plotly.graph_objects as go\n",
    "import numpy as np"
   ]
  },
  {
   "cell_type": "code",
   "execution_count": null,
   "id": "1771638a",
   "metadata": {},
   "outputs": [],
   "source": [
    "#data to be plotted\n",
    "x=np.outer(np.linspace(-2,2,30),np.ones(30))\n",
    "y=x.copy().T\n",
    "z=np.cos(x**2+y**2)\n",
    "\n",
    "#plotting the figure\n",
    "fig=go.Figure(data=[go.Surface(x=x,y=y,z=z)])\n",
    "fig.show()"
   ]
  },
  {
   "cell_type": "code",
   "execution_count": null,
   "id": "4a946a18",
   "metadata": {},
   "outputs": [],
   "source": [
    "feature_x=np.arange(0,50,2)\n",
    "feature_y=np.arange(0,50,2)\n",
    "\n",
    "#creating 2D grid of features\n",
    "[X,Y]=np.meshgrid(feature_x,feature_y)\n",
    "\n",
    "Z=np.cos(X/2)+np.sin(Y/4)\n",
    "\n",
    "#plotting the figure\n",
    "fig=go.Figure(data=go.Heatmap(x=feature_x,y=feature_y,z=Z,))\n",
    "fig.show()"
   ]
  },
  {
   "cell_type": "code",
   "execution_count": null,
   "id": "0fff68a0",
   "metadata": {},
   "outputs": [],
   "source": [
    "np.random.seed(42) #to stabilize random numbers\n",
    "\n",
    "#data to be plotted\n",
    "random_x=np.random.randint(1,101,100)\n",
    "random_y=np.random.randint(1,101,100)\n",
    "\n",
    "plot=go.Figure(data=[go.Scatter(x=random_x,y=random_y,mode='markers',)])\n",
    "\n",
    "#add dropdown\n",
    "plot.update_layout(\n",
    "    updatemenus=[\n",
    "        dict(\n",
    "            buttons=list([\n",
    "                dict(\n",
    "                    args=['type','scatter'],\n",
    "                    label='Scatter Plot',\n",
    "                    method='restyle'\n",
    "                ),\n",
    "                dict(\n",
    "                    args=['type','bar'],\n",
    "                    label='Bar Plot',\n",
    "                    method='restyle'\n",
    "                )\n",
    "            ]),\n",
    "            direction='down',\n",
    "        ),\n",
    "    ]\n",
    ")\n",
    "plot.show()"
   ]
  },
  {
   "cell_type": "code",
   "execution_count": null,
   "id": "bf8c90f5",
   "metadata": {},
   "outputs": [],
   "source": [
    "df=px.data.tips()\n",
    "\n",
    "plot=go.Figure(data=[go.Scatter(x=df['day'],y=df['tip'],mode='markers',)])\n",
    "\n",
    "\n",
    "#add dropdown\n",
    "plot.update_layout(\n",
    "    updatemenus=[\n",
    "        dict(\n",
    "            type='buttons',\n",
    "            direction='left',\n",
    "            \n",
    "            buttons=list([\n",
    "                dict(\n",
    "                    args=['type','scatter'],\n",
    "                    label='Scatter Plot',\n",
    "                    method='restyle'\n",
    "                ),\n",
    "                dict(\n",
    "                    args=['type','bar'],\n",
    "                    label='Bar Plot',\n",
    "                    method='restyle'\n",
    "                )\n",
    "            ]),\n",
    "            \n",
    "        ),\n",
    "    ]\n",
    ")\n",
    "plot.show()"
   ]
  },
  {
   "cell_type": "code",
   "execution_count": null,
   "id": "ec3fdebd",
   "metadata": {},
   "outputs": [],
   "source": [
    "x=df['total_bill']\n",
    "y=df['day']\n",
    "\n",
    "plot=go.Figure(data=[go.Scatter(\n",
    "x=x,\n",
    "y=y,\n",
    "mode='lines',)])\n",
    "\n",
    "plot.update_layout(\n",
    "            xaxis=dict(\n",
    "                rangeselector=dict(\n",
    "                    buttons=list([\n",
    "                        dict(count=1,\n",
    "                            step='day',\n",
    "                            stepmode='backward'),\n",
    "                    ])\n",
    "                ),\n",
    "            rangeslider=dict(\n",
    "                visible=True),\n",
    "            )\n",
    ")\n",
    "plot.show()"
   ]
  },
  {
   "cell_type": "markdown",
   "id": "12a80fbd",
   "metadata": {},
   "source": [
    "# Animated visualization using plotly express"
   ]
  },
  {
   "cell_type": "code",
   "execution_count": null,
   "id": "2b6db216",
   "metadata": {},
   "outputs": [],
   "source": [
    "gapminder=px.data.gapminder()\n",
    "gapminder.head(10)"
   ]
  },
  {
   "cell_type": "code",
   "execution_count": null,
   "id": "083f5b2d",
   "metadata": {},
   "outputs": [],
   "source": [
    "fig=px.choropleth(gapminder,\n",
    "                 locations='iso_alpha',\n",
    "                 color='lifeExp',\n",
    "                 hover_name='country',\n",
    "                 color_continuous_scale=px.colors.sequential.Plasma,\n",
    "                 scope='world',\n",
    "                 animation_frame='year'\n",
    "            )\n",
    "fig.show()\n"
   ]
  },
  {
   "cell_type": "code",
   "execution_count": null,
   "id": "73468b5d",
   "metadata": {},
   "outputs": [],
   "source": [
    "fig=px.density_contour(gapminder,\n",
    "                      x='gdpPercap',\n",
    "                      y='lifeExp',\n",
    "                      color='continent',\n",
    "                      marginal_y='histogram',\n",
    "                      animation_frame='year',\n",
    "                      animation_group='country',\n",
    "                      range_y=[25,100])\n",
    "fig.show()"
   ]
  },
  {
   "cell_type": "code",
   "execution_count": null,
   "id": "38829046",
   "metadata": {},
   "outputs": [],
   "source": [
    "fig=px.scatter(gapminder,\n",
    "              x='gdpPercap',\n",
    "              y='lifeExp',\n",
    "              animation_frame='year',\n",
    "              animation_group='country',\n",
    "              size='pop',\n",
    "              color='continent',\n",
    "              hover_name='country',\n",
    "              facet_col='continent',\n",
    "              size_max=45,\n",
    "              range_y=[25,90]\n",
    "              )\n",
    "fig.show()"
   ]
  },
  {
   "cell_type": "markdown",
   "id": "90ecc7e2",
   "metadata": {},
   "source": [
    "# tables in plotly"
   ]
  },
  {
   "cell_type": "code",
   "execution_count": null,
   "id": "02ea0539",
   "metadata": {},
   "outputs": [],
   "source": [
    "fig=go.Figure(data=[go.Table(\n",
    "        header=dict(values=['A', 'B']),\n",
    "        cells=dict(values=[[10,20,30,40],\n",
    "                          [40,20,10,50]]))\n",
    "                   ])\n",
    "fig.show()"
   ]
  },
  {
   "cell_type": "code",
   "execution_count": null,
   "id": "e770bb84",
   "metadata": {},
   "outputs": [],
   "source": [
    "color1='lightgreen'\n",
    "color2='lightblue'\n",
    "fig=go.Figure(data=[go.Table(\n",
    "        header=dict(values=['A', 'B']),\n",
    "        cells=dict(values=[[10,20,30,40],\n",
    "                          [40,20,10,50]],\n",
    "                  fill_color=[[color1,color2,color1,color2,color1]*2],))\n",
    "                   ])\n",
    "fig.show()"
   ]
  },
  {
   "cell_type": "code",
   "execution_count": null,
   "id": "b085bb6e",
   "metadata": {},
   "outputs": [],
   "source": [
    "color1='lightgreen'\n",
    "color2='lightblue'\n",
    "fig=go.Figure(data=[go.Table(\n",
    "        #ratio for column width\n",
    "        columnwidth=[1,5],\n",
    "        header=dict(values=['A', 'B']),\n",
    "        cells=dict(values=[[10,20,30,40],\n",
    "                          [40,20,10,50]],\n",
    "                  fill_color=[[color1,color2,color1,color2,color1]*2],))\n",
    "                   ])\n",
    "fig.show()"
   ]
  },
  {
   "cell_type": "markdown",
   "id": "9796441b",
   "metadata": {},
   "source": [
    "# polar charts in plotly"
   ]
  },
  {
   "cell_type": "code",
   "execution_count": null,
   "id": "5dfae33b",
   "metadata": {},
   "outputs": [],
   "source": [
    "fig=go.Figure(data=go.Scatterpolar(\n",
    "    r=[1,2,3,4,5,6,7,8,9],\n",
    "    theta=[69,141,213,285,357,429,501,573,645],\n",
    "    mode='markers',\n",
    "))\n",
    "fig.show()"
   ]
  },
  {
   "cell_type": "code",
   "execution_count": null,
   "id": "57f3f215",
   "metadata": {},
   "outputs": [],
   "source": [
    "fig=go.Figure(data=go.Scatterpolar(\n",
    "    r=[1,2,3,4,5,6,7,8,9],\n",
    "    theta=[69,141,213,285,357,429,501,573,645],\n",
    "   \n",
    "))\n",
    "fig.show()"
   ]
  },
  {
   "cell_type": "code",
   "execution_count": null,
   "id": "cdf81754",
   "metadata": {},
   "outputs": [],
   "source": [
    "fig=go.Figure(data=go.Barpolar( #wizard plot\n",
    "    r=[1,2,3,4,5,6,7,8,9],\n",
    "    theta=[69,141,213,285,357,429,501,573,645],\n",
    "   \n",
    "))\n",
    "fig.show()"
   ]
  },
  {
   "cell_type": "markdown",
   "id": "7f172308",
   "metadata": {},
   "source": [
    "# streamline plots"
   ]
  },
  {
   "cell_type": "code",
   "execution_count": null,
   "id": "2c4b5328",
   "metadata": {},
   "outputs": [],
   "source": [
    "import plotly.figure_factory as ff"
   ]
  },
  {
   "cell_type": "code",
   "execution_count": null,
   "id": "93c5b81f",
   "metadata": {},
   "outputs": [],
   "source": [
    "x=np.linspace(-1,1,10)\n",
    "y=np.linspace(-1,1,10)\n",
    "Y,X=np.meshgrid(x,y)\n",
    "u=1-X**2+Y\n",
    "v=-1+X-Y**2\n",
    "\n",
    "#create streamline figure\n",
    "fig=ff.create_streamline(x,y,u,v,arrow_scale=0.1)\n",
    "fig.show()"
   ]
  },
  {
   "cell_type": "code",
   "execution_count": null,
   "id": "73be3535",
   "metadata": {},
   "outputs": [],
   "source": [
    "df=px.data.gapminder().query('year==2007')\n",
    "plot=px.scatter_geo(df,locations='iso_alpha')\n",
    "plot.show()"
   ]
  },
  {
   "cell_type": "code",
   "execution_count": null,
   "id": "02d1d100",
   "metadata": {},
   "outputs": [],
   "source": [
    "df=px.data.gapminder().query('year==2007')\n",
    "plot=px.scatter_geo(df,locations='iso_alpha',size='gdpPercap',color='country')\n",
    "plot.show()"
   ]
  },
  {
   "cell_type": "code",
   "execution_count": null,
   "id": "6e40d748",
   "metadata": {},
   "outputs": [],
   "source": [
    "df1=px.data.tips()\n",
    "plot=px.scatter_polar(df1,r='day',theta='total_bill')\n",
    "plot.show()"
   ]
  },
  {
   "cell_type": "code",
   "execution_count": null,
   "id": "b8deb0a6",
   "metadata": {},
   "outputs": [],
   "source": [
    "df1=px.data.tips()\n",
    "plot=px.scatter_polar(df1,r='day',theta='total_bill',color='time')\n",
    "plot.show()"
   ]
  },
  {
   "cell_type": "code",
   "execution_count": null,
   "id": "a0e6e9d0",
   "metadata": {},
   "outputs": [],
   "source": [
    "df1=px.data.tips()\n",
    "plot=px.scatter_polar(df1,r='day',theta='total_bill',color='time',symbol='tip')\n",
    "plot.show()"
   ]
  },
  {
   "cell_type": "code",
   "execution_count": null,
   "id": "1c2eae85",
   "metadata": {},
   "outputs": [],
   "source": [
    "df2=px.data.iris()\n",
    "plot=px.scatter_ternary(df2,a='sepal_width',b='sepal_length',c='petal_width')\n",
    "plot.show()"
   ]
  },
  {
   "cell_type": "code",
   "execution_count": null,
   "id": "24daa7cd",
   "metadata": {},
   "outputs": [],
   "source": [
    "df2=px.data.iris()\n",
    "plot=px.scatter_ternary(df2,a='sepal_width',b='sepal_length',c='petal_width',\n",
    "                        color='species',size='petal_length')\n",
    "plot.show()"
   ]
  },
  {
   "cell_type": "code",
   "execution_count": null,
   "id": "50518d35",
   "metadata": {},
   "outputs": [],
   "source": [
    "df2=px.data.iris()\n",
    "plot=px.scatter_ternary(df2,a='sepal_width',b='sepal_length',c='petal_width',\n",
    "                        color='species',size='petal_length',symbol='species_id')\n",
    "plot.show()"
   ]
  },
  {
   "cell_type": "code",
   "execution_count": null,
   "id": "4d808c3e",
   "metadata": {},
   "outputs": [],
   "source": [
    "df2=px.data.iris()\n",
    "plot=px.line_ternary(df2,a='sepal_width',b='sepal_length',c='petal_width')\n",
    "plot.show()"
   ]
  },
  {
   "cell_type": "code",
   "execution_count": null,
   "id": "2f98b5f1",
   "metadata": {},
   "outputs": [],
   "source": [
    "df2=px.data.iris()\n",
    "plot=px.line_ternary(df2,a='sepal_width',b='sepal_length',c='petal_width',\n",
    "                        color='species',line_group='species')\n",
    "plot.show()"
   ]
  },
  {
   "cell_type": "code",
   "execution_count": null,
   "id": "59302b8d",
   "metadata": {},
   "outputs": [],
   "source": [
    "fig=px.area(df2,x='sepal_width',y='sepal_length',color='species',hover_data=['petal_width'],)\n",
    "fig.show()"
   ]
  },
  {
   "cell_type": "code",
   "execution_count": null,
   "id": "72e5c48a",
   "metadata": {},
   "outputs": [],
   "source": [
    "fig=px.sunburst(df2,path=['sepal_width','sepal_length','petal_length'],values='petal_width')\n",
    "fig.show()"
   ]
  },
  {
   "cell_type": "code",
   "execution_count": null,
   "id": "b2d9830d",
   "metadata": {},
   "outputs": [],
   "source": [
    "df1.head()"
   ]
  },
  {
   "cell_type": "code",
   "execution_count": null,
   "id": "4141ac4d",
   "metadata": {},
   "outputs": [],
   "source": [
    "fig=px.sunburst(df1,path=['day','sex'],values='total_bill')\n",
    "fig.show()"
   ]
  },
  {
   "cell_type": "code",
   "execution_count": null,
   "id": "ea268d75",
   "metadata": {},
   "outputs": [],
   "source": [
    "fig=px.sunburst(df1,path=['day','sex'],values='total_bill',color='total_bill')\n",
    "fig.show()"
   ]
  },
  {
   "cell_type": "code",
   "execution_count": null,
   "id": "0e98ed72",
   "metadata": {},
   "outputs": [],
   "source": [
    "fig=px.sunburst(df1,path=['day','sex'],values='total_bill',color='time')\n",
    "fig.show()"
   ]
  },
  {
   "cell_type": "code",
   "execution_count": null,
   "id": "366eb5e0",
   "metadata": {},
   "outputs": [],
   "source": [
    "df1.groupby(['time','day']).sum()"
   ]
  },
  {
   "cell_type": "code",
   "execution_count": null,
   "id": "5275d033",
   "metadata": {},
   "outputs": [],
   "source": [
    "fig=go.Figure(go.Carpet(\n",
    "        y=[1,2,3,4,5,6]))\n",
    "fig.show()"
   ]
  },
  {
   "cell_type": "code",
   "execution_count": null,
   "id": "677808bd",
   "metadata": {},
   "outputs": [],
   "source": [
    "import plotly.graph_objects as go\n",
    "fig=go.Figure(go.Carpet(\n",
    "        a=[1,2,3,1,2,3],\n",
    "        b=[4,5,6,4,5,6],\n",
    "        y=[1,2,3,4,5,6]))\n",
    "fig.show()"
   ]
  },
  {
   "cell_type": "code",
   "execution_count": null,
   "id": "ee4ae67e",
   "metadata": {},
   "outputs": [],
   "source": [
    "import plotly.graph_objects as go\n",
    "fig=go.Figure(go.Carpet(\n",
    "        a=[1,2,3,4,5,6],\n",
    "        b=[6,5,4,3,2,1],\n",
    "        y=[1,2,3,4,5,6],\n",
    "\n",
    "        aaxis=dict(\n",
    "            tickprefix='F = ',\n",
    "            ticksuffix='N',\n",
    "            smoothing=0.2,\n",
    "            minorgridcount=10,),\n",
    "        baxis=dict(\n",
    "            tickprefix='T = ',\n",
    "            ticksuffix='pa',\n",
    "            smoothing=0.4,\n",
    "            minorgridcount=9\n",
    "            ,),))\n",
    "fig.show()"
   ]
  },
  {
   "cell_type": "code",
   "execution_count": null,
   "id": "ffc42b03",
   "metadata": {},
   "outputs": [],
   "source": [
    "import plotly.graph_objects as go\n",
    "fig=go.Figure(go.Carpet(\n",
    "        a=[1,2,3,4,5,6],\n",
    "        b=[6,5,4,3,2,1],\n",
    "        y=[1,2,3,4,5,6],\n",
    "\n",
    "        aaxis=dict(\n",
    "            tickprefix='F = ',\n",
    "            ticksuffix='N',\n",
    "            smoothing=0.2,\n",
    "            minorgridcount=10,),\n",
    "        baxis=dict(\n",
    "            tickprefix='T = ',\n",
    "            ticksuffix='pa',\n",
    "            smoothing=0.4,\n",
    "            minorgridcount=9\n",
    "            ,),))\n",
    "\n",
    "fig.update_layout(\n",
    "        plot_bgcolor='black',\n",
    "        paper_bgcolor='black',\n",
    "        xaxis=dict(\n",
    "            showgrid=False,\n",
    "            showticklabels=False),\n",
    "        yaxis=dict(\n",
    "            showgrid=False,\n",
    "            showticklabels=False),)\n",
    "\n",
    "\n",
    "\n",
    "fig.show()"
   ]
  },
  {
   "cell_type": "code",
   "execution_count": null,
   "id": "d3d636f6",
   "metadata": {},
   "outputs": [],
   "source": [
    "fig=go.Figure()\n",
    "fig.add_trace(go.Contourcarpet(\n",
    "        a=[1,2,3,4,5,6],\n",
    "        b=[6,5,4,3,2,1],\n",
    "        z=[1,1.96,5,6.1028,4,5.0625],\n",
    "        autocontour=False,\n",
    "        contours=dict(\n",
    "            start=1,\n",
    "            end=14,\n",
    "            size=1),\n",
    "        line=dict(\n",
    "            width=2,\n",
    "            smoothing=0),\n",
    "        colorbar=dict(\n",
    "            len=0.4,\n",
    "            y=0.25)))\n",
    "\n",
    "fig.add_trace(go.Carpet(\n",
    "        a=[1,2,3,4,5,6],\n",
    "        b=[6,5,4,3,2,1],\n",
    "        y=[1,2,3,4,5,6],\n",
    "\n",
    "        aaxis=dict(\n",
    "            tickprefix='F = ',\n",
    "            ticksuffix='N',\n",
    "            smoothing=0.2,\n",
    "            minorgridcount=10,),\n",
    "        baxis=dict(\n",
    "            tickprefix='T = ',\n",
    "            ticksuffix='pa',\n",
    "            smoothing=0.4,\n",
    "            minorgridcount=9\n",
    "            ,),))"
   ]
  },
  {
   "cell_type": "code",
   "execution_count": null,
   "id": "b73d31d3",
   "metadata": {},
   "outputs": [],
   "source": [
    "fig=go.Figure(data=[go.Sankey(\n",
    "        node=dict(\n",
    "            thickness=5,\n",
    "            line=dict(\n",
    "                color='green',\n",
    "                width=0.1),\n",
    "            label=['A','B','C','D','E','F'],\n",
    "            color='blue'),\n",
    "            link=dict(\n",
    "                source=[0,6,1,4,2,3],\n",
    "                target=[2,1,5,2,1,5],\n",
    "                value=[7,1,3,6,9,4]))])\n",
    "fig.show()"
   ]
  },
  {
   "cell_type": "code",
   "execution_count": null,
   "id": "834e14d4",
   "metadata": {},
   "outputs": [],
   "source": [
    "fig=go.Figure(data=[go.Sankey(\n",
    "        node=dict(\n",
    "            thickness=5,\n",
    "            line=dict(\n",
    "                color='green',\n",
    "                width=0.1),\n",
    "            label=['A','B','C','D','E','F'],\n",
    "            color='blue'),\n",
    "            link=dict(\n",
    "                source=[0,6,1,4,2,3],\n",
    "                target=[2,1,5,2,1,5],\n",
    "                value=[7,1,3,6,9,4]))])\n",
    "\n",
    "fig.update_layout(\n",
    "        hovermode='x',\n",
    "        title='sankeydiagram',\n",
    "        font=dict(\n",
    "            size=10,\n",
    "            color='green'),\n",
    "        plot_bgcolor='blue',\n",
    "        paper_bgcolor='black'\n",
    ")\n",
    "\n",
    "\n",
    "fig.show()"
   ]
  },
  {
   "cell_type": "code",
   "execution_count": null,
   "id": "50b8a496",
   "metadata": {},
   "outputs": [],
   "source": [
    "df3=px.data.wind()\n",
    "fig=px.bar_polar(df3,r='strength',theta='direction',color='frequency',)\n",
    "fig.show()"
   ]
  },
  {
   "cell_type": "code",
   "execution_count": null,
   "id": "ed922b7b",
   "metadata": {},
   "outputs": [],
   "source": [
    "fig=px.treemap(df1,path=['day','time','tip'],values='total_bill')\n",
    "fig.show()"
   ]
  },
  {
   "cell_type": "code",
   "execution_count": null,
   "id": "8d3f200f",
   "metadata": {},
   "outputs": [],
   "source": []
  }
 ],
 "metadata": {
  "kernelspec": {
   "display_name": "Python 3 (ipykernel)",
   "language": "python",
   "name": "python3"
  },
  "language_info": {
   "codemirror_mode": {
    "name": "ipython",
    "version": 3
   },
   "file_extension": ".py",
   "mimetype": "text/x-python",
   "name": "python",
   "nbconvert_exporter": "python",
   "pygments_lexer": "ipython3",
   "version": "3.11.5"
  }
 },
 "nbformat": 4,
 "nbformat_minor": 5
}
